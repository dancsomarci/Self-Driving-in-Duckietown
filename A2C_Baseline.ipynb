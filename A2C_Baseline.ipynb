{
 "cells": [
  {
   "cell_type": "markdown",
   "id": "10e134e8",
   "metadata": {},
   "source": [
    "## Duckietown Import"
   ]
  },
  {
   "cell_type": "code",
   "execution_count": null,
   "id": "f92abb52",
   "metadata": {},
   "outputs": [],
   "source": [
    "import os \n",
    "if not os.path.isdir('gym-duckietown') and not os.path.isdir('../gym-duckietown'):\n",
    "    branch = \"master\"\n",
    "    !git clone --branch {branch} https://github.com/duckietown/gym-duckietown.git\n",
    "    !pip3 install -e gym-duckietown"
   ]
  },
  {
   "cell_type": "code",
   "execution_count": null,
   "id": "37dd3d93",
   "metadata": {
    "scrolled": true
   },
   "outputs": [],
   "source": [
    "if \"/gym-duckietown\" not in os.getcwd():\n",
    "    os.chdir('gym-duckietown')"
   ]
  },
  {
   "cell_type": "markdown",
   "id": "f48bf482",
   "metadata": {},
   "source": [
    "## Initialize environment"
   ]
  },
  {
   "cell_type": "code",
   "execution_count": null,
   "id": "d18bebe1",
   "metadata": {},
   "outputs": [],
   "source": [
    "import gym\n",
    "import numpy as np\n",
    "import torch as th\n",
    "import matplotlib.pyplot as plt\n",
    "import gym_duckietown\n",
    "from env import launch_env\n",
    "\n",
    "from stable_baselines3 import A2C\n",
    "from stable_baselines3.common.callbacks import CheckpointCallback"
   ]
  },
  {
   "cell_type": "code",
   "execution_count": null,
   "id": "bafada2c",
   "metadata": {
    "scrolled": true
   },
   "outputs": [],
   "source": [
    "env = launch_env()"
   ]
  },
  {
   "cell_type": "code",
   "execution_count": null,
   "id": "18912695",
   "metadata": {},
   "outputs": [],
   "source": [
    "%load_ext tensorboard\n",
    "tb_log = \"..\\\\log\\\\\" #TODO"
   ]
  },
  {
   "cell_type": "code",
   "execution_count": null,
   "id": "c379919b",
   "metadata": {},
   "outputs": [],
   "source": [
    "a2c_model = A2C(policy='MlpPolicy',\n",
    "                env=env,\n",
    "                learning_rate=5.e-3,\n",
    "                gamma=0.90,\n",
    "                tensorboard_log=tb_log,\n",
    "                verbose=1)"
   ]
  },
  {
   "cell_type": "markdown",
   "id": "a70084db",
   "metadata": {},
   "source": [
    "## Learning"
   ]
  },
  {
   "cell_type": "code",
   "execution_count": null,
   "id": "f8f2cd67",
   "metadata": {},
   "outputs": [],
   "source": [
    "checkpoint_callback = CheckpointCallback(\n",
    "  save_freq=1000,\n",
    "  save_path=\"..\\\\saves\\\\\", #TODO\n",
    "  name_prefix=\"a2c_model\",)"
   ]
  },
  {
   "cell_type": "code",
   "execution_count": null,
   "id": "7b6b691d",
   "metadata": {},
   "outputs": [],
   "source": [
    "a2c_model.learn(total_timesteps=1000000, callback=checkpoint_callback)"
   ]
  },
  {
   "cell_type": "markdown",
   "id": "3569c02e",
   "metadata": {},
   "source": [
    "## Model Loading"
   ]
  },
  {
   "cell_type": "code",
   "execution_count": null,
   "id": "725fb12e",
   "metadata": {},
   "outputs": [],
   "source": [
    "env = launch_env()\n",
    "a2c_model = A2C.load(\"..\\\\saves\\\\rl_model_100000_steps\")"
   ]
  },
  {
   "cell_type": "markdown",
   "id": "d8c42719",
   "metadata": {},
   "source": [
    "## Model Logging"
   ]
  },
  {
   "cell_type": "code",
   "execution_count": null,
   "id": "daaaad24",
   "metadata": {},
   "outputs": [],
   "source": [
    "%tensorboard --logdir tb_log"
   ]
  },
  {
   "cell_type": "markdown",
   "id": "6e47334c",
   "metadata": {},
   "source": [
    "## Model Testing"
   ]
  },
  {
   "cell_type": "code",
   "execution_count": null,
   "id": "156fd432",
   "metadata": {},
   "outputs": [],
   "source": [
    "cutoff = 256\n",
    "with th.no_grad():\n",
    "    while True:\n",
    "        obs = env.reset()\n",
    "        env.render()\n",
    "        rewards = []\n",
    "        steps = 0\n",
    "        while True:\n",
    "            action, _states = a2c_model.predict(obs, deterministic=True)\n",
    "            obs, rew, done, misc = env.step(action)\n",
    "            rewards.append(rew)\n",
    "            env.render()\n",
    "            steps += 1\n",
    "            if done or steps >= cutoff:\n",
    "                break\n",
    "        print(\"mean episode reward:\", np.mean(rewards))"
   ]
  }
 ],
 "metadata": {
  "kernelspec": {
   "display_name": "Python 3 (ipykernel)",
   "language": "python",
   "name": "python3"
  },
  "language_info": {
   "codemirror_mode": {
    "name": "ipython",
    "version": 3
   },
   "file_extension": ".py",
   "mimetype": "text/x-python",
   "name": "python",
   "nbconvert_exporter": "python",
   "pygments_lexer": "ipython3",
   "version": "3.8.13"
  },
  "vscode": {
   "interpreter": {
    "hash": "08a26240bb99bf6b2d829f319099ca516958c43a63eb9bb458a964dd535085d4"
   }
  }
 },
 "nbformat": 4,
 "nbformat_minor": 5
}
