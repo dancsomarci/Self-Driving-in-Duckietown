{
  "cells": [
    {
      "cell_type": "markdown",
      "id": "1efa4aa0",
      "metadata": {
        "id": "1efa4aa0"
      },
      "source": [
        "## Duckietown Import"
      ]
    },
    {
      "cell_type": "code",
      "execution_count": 2,
      "id": "6f03292a",
      "metadata": {
        "id": "6f03292a"
      },
      "outputs": [],
      "source": [
        "import os \n",
        "if not os.path.isdir('Self-Driving-in-Duckietown') and not os.path.isdir('../Self-Driving-in-Duckietown'):\n",
        "    branch = \"milestone_3\"\n",
        "    !git clone --branch {branch} https://github.com/dancsomarci/Self-Driving-in-Duckietown\n",
        "    !pip3 install -e gym-duckietown"
      ]
    },
    {
      "cell_type": "code",
      "execution_count": 3,
      "id": "954d1671",
      "metadata": {
        "id": "954d1671"
      },
      "outputs": [],
      "source": [
        "if \"/Self-Driving-in-Duckietown\" not in os.getcwd():\n",
        "    os.chdir('Self-Driving-in-Duckietown')"
      ]
    },
    {
      "cell_type": "code",
      "source": [
        "!pip3 install -e ."
      ],
      "metadata": {
        "colab": {
          "base_uri": "https://localhost:8080/"
        },
        "id": "DtDAvKKc54qN",
        "outputId": "458c1a9f-d8f1-4759-b546-0672f46b915e"
      },
      "id": "DtDAvKKc54qN",
      "execution_count": 4,
      "outputs": [
        {
          "output_type": "stream",
          "name": "stdout",
          "text": [
            "Looking in indexes: https://pypi.org/simple, https://us-python.pkg.dev/colab-wheels/public/simple/\n",
            "Obtaining file:///content/Self-Driving-in-Duckietown\n",
            "Requirement already satisfied: gym>=0.17.1 in /usr/local/lib/python3.8/dist-packages (from duckietown-gym-daffy==6.1.31) (0.21.0)\n",
            "Requirement already satisfied: numpy>=1.10.0 in /usr/local/lib/python3.8/dist-packages (from duckietown-gym-daffy==6.1.31) (1.21.6)\n",
            "Requirement already satisfied: pyglet in /usr/local/lib/python3.8/dist-packages (from duckietown-gym-daffy==6.1.31) (2.0.0)\n",
            "Requirement already satisfied: pyzmq>=16.0.0 in /usr/local/lib/python3.8/dist-packages (from duckietown-gym-daffy==6.1.31) (23.2.1)\n",
            "Requirement already satisfied: opencv-python>=3.4 in /usr/local/lib/python3.8/dist-packages (from duckietown-gym-daffy==6.1.31) (4.6.0.66)\n",
            "Requirement already satisfied: PyYAML>=3.11 in /usr/local/lib/python3.8/dist-packages (from duckietown-gym-daffy==6.1.31) (6.0)\n",
            "Requirement already satisfied: duckietown-world-daffy in /usr/local/lib/python3.8/dist-packages (from duckietown-gym-daffy==6.1.31) (6.4.3)\n",
            "Requirement already satisfied: PyGeometry-z6 in /usr/local/lib/python3.8/dist-packages (from duckietown-gym-daffy==6.1.31) (2.1.4)\n",
            "Requirement already satisfied: carnivalmirror==0.6.2 in /usr/local/lib/python3.8/dist-packages (from duckietown-gym-daffy==6.1.31) (0.6.2)\n",
            "Requirement already satisfied: zuper-commons-z6 in /usr/local/lib/python3.8/dist-packages (from duckietown-gym-daffy==6.1.31) (6.2.4)\n",
            "Requirement already satisfied: typing_extensions in /usr/local/lib/python3.8/dist-packages (from duckietown-gym-daffy==6.1.31) (4.1.1)\n",
            "Requirement already satisfied: Pillow in /usr/local/lib/python3.8/dist-packages (from duckietown-gym-daffy==6.1.31) (7.1.2)\n",
            "Requirement already satisfied: matplotlib>=2.2.2 in /usr/local/lib/python3.8/dist-packages (from carnivalmirror==0.6.2->duckietown-gym-daffy==6.1.31) (3.2.2)\n",
            "Requirement already satisfied: cloudpickle>=1.2.0 in /usr/local/lib/python3.8/dist-packages (from gym>=0.17.1->duckietown-gym-daffy==6.1.31) (1.5.0)\n",
            "Requirement already satisfied: python-dateutil>=2.1 in /usr/local/lib/python3.8/dist-packages (from matplotlib>=2.2.2->carnivalmirror==0.6.2->duckietown-gym-daffy==6.1.31) (2.8.2)\n",
            "Requirement already satisfied: pyparsing!=2.0.4,!=2.1.2,!=2.1.6,>=2.0.1 in /usr/local/lib/python3.8/dist-packages (from matplotlib>=2.2.2->carnivalmirror==0.6.2->duckietown-gym-daffy==6.1.31) (3.0.9)\n",
            "Requirement already satisfied: kiwisolver>=1.0.1 in /usr/local/lib/python3.8/dist-packages (from matplotlib>=2.2.2->carnivalmirror==0.6.2->duckietown-gym-daffy==6.1.31) (1.4.4)\n",
            "Requirement already satisfied: cycler>=0.10 in /usr/local/lib/python3.8/dist-packages (from matplotlib>=2.2.2->carnivalmirror==0.6.2->duckietown-gym-daffy==6.1.31) (0.11.0)\n",
            "Requirement already satisfied: six>=1.5 in /usr/local/lib/python3.8/dist-packages (from python-dateutil>=2.1->matplotlib>=2.2.2->carnivalmirror==0.6.2->duckietown-gym-daffy==6.1.31) (1.15.0)\n",
            "Requirement already satisfied: oyaml in /usr/local/lib/python3.8/dist-packages (from duckietown-world-daffy->duckietown-gym-daffy==6.1.31) (1.0)\n",
            "Requirement already satisfied: plotly in /usr/local/lib/python3.8/dist-packages (from duckietown-world-daffy->duckietown-gym-daffy==6.1.31) (5.5.0)\n",
            "Requirement already satisfied: frozendict in /usr/local/lib/python3.8/dist-packages (from duckietown-world-daffy->duckietown-gym-daffy==6.1.31) (2.3.4)\n",
            "Requirement already satisfied: gltflib in /usr/local/lib/python3.8/dist-packages (from duckietown-world-daffy->duckietown-gym-daffy==6.1.31) (1.0.13)\n",
            "Requirement already satisfied: coloredlogs in /usr/local/lib/python3.8/dist-packages (from duckietown-world-daffy->duckietown-gym-daffy==6.1.31) (15.0.1)\n",
            "Requirement already satisfied: jpeg4py in /usr/local/lib/python3.8/dist-packages (from duckietown-world-daffy->duckietown-gym-daffy==6.1.31) (0.1.4)\n",
            "Requirement already satisfied: pyrender in /usr/local/lib/python3.8/dist-packages (from duckietown-world-daffy->duckietown-gym-daffy==6.1.31) (0.1.45)\n",
            "Requirement already satisfied: svgwrite in /usr/local/lib/python3.8/dist-packages (from duckietown-world-daffy->duckietown-gym-daffy==6.1.31) (1.4.3)\n",
            "Requirement already satisfied: zuper-ipce-z6 in /usr/local/lib/python3.8/dist-packages (from duckietown-world-daffy->duckietown-gym-daffy==6.1.31) (6.1.2)\n",
            "Requirement already satisfied: duckietown-serialization-ds1<2 in /usr/local/lib/python3.8/dist-packages (from duckietown-world-daffy->duckietown-gym-daffy==6.1.31) (1.1.1)\n",
            "Requirement already satisfied: networkx<3,>=2.2 in /usr/local/lib/python3.8/dist-packages (from duckietown-world-daffy->duckietown-gym-daffy==6.1.31) (2.6.3)\n",
            "Requirement already satisfied: aido-protocols-daffy in /usr/local/lib/python3.8/dist-packages (from duckietown-world-daffy->duckietown-gym-daffy==6.1.31) (6.1.1)\n",
            "Requirement already satisfied: future in /usr/local/lib/python3.8/dist-packages (from duckietown-world-daffy->duckietown-gym-daffy==6.1.31) (0.16.0)\n",
            "Requirement already satisfied: scipy in /usr/local/lib/python3.8/dist-packages (from duckietown-world-daffy->duckietown-gym-daffy==6.1.31) (1.7.3)\n",
            "Requirement already satisfied: PyContracts3 in /usr/local/lib/python3.8/dist-packages (from duckietown-world-daffy->duckietown-gym-daffy==6.1.31) (3.0.2)\n",
            "Requirement already satisfied: trimesh in /usr/local/lib/python3.8/dist-packages (from duckietown-world-daffy->duckietown-gym-daffy==6.1.31) (3.16.4)\n",
            "Requirement already satisfied: ipython in /usr/local/lib/python3.8/dist-packages (from duckietown-world-daffy->duckietown-gym-daffy==6.1.31) (7.9.0)\n",
            "Requirement already satisfied: lxml in /usr/local/lib/python3.8/dist-packages (from duckietown-world-daffy->duckietown-gym-daffy==6.1.31) (4.9.1)\n",
            "Requirement already satisfied: Markdown in /usr/local/lib/python3.8/dist-packages (from duckietown-world-daffy->duckietown-gym-daffy==6.1.31) (3.4.1)\n",
            "Requirement already satisfied: zuper-typing-z6>=6.0.66 in /usr/local/lib/python3.8/dist-packages (from duckietown-world-daffy->duckietown-gym-daffy==6.1.31) (6.2.3)\n",
            "Requirement already satisfied: beautifulsoup4<=4.7.1,>=4.6.3 in /usr/local/lib/python3.8/dist-packages (from duckietown-world-daffy->duckietown-gym-daffy==6.1.31) (4.6.3)\n",
            "Requirement already satisfied: base58<2 in /usr/local/lib/python3.8/dist-packages (from duckietown-serialization-ds1<2->duckietown-world-daffy->duckietown-gym-daffy==6.1.31) (1.0.3)\n",
            "Requirement already satisfied: validate-email in /usr/local/lib/python3.8/dist-packages (from zuper-typing-z6>=6.0.66->duckietown-world-daffy->duckietown-gym-daffy==6.1.31) (1.3)\n",
            "Requirement already satisfied: pytz in /usr/local/lib/python3.8/dist-packages (from zuper-typing-z6>=6.0.66->duckietown-world-daffy->duckietown-gym-daffy==6.1.31) (2022.6)\n",
            "Requirement already satisfied: pybase64 in /usr/local/lib/python3.8/dist-packages (from zuper-typing-z6>=6.0.66->duckietown-world-daffy->duckietown-gym-daffy==6.1.31) (1.2.3)\n",
            "Requirement already satisfied: coverage>=1.4.33 in /usr/local/lib/python3.8/dist-packages (from zuper-typing-z6>=6.0.66->duckietown-world-daffy->duckietown-gym-daffy==6.1.31) (6.5.0)\n",
            "Requirement already satisfied: mypy-extensions in /usr/local/lib/python3.8/dist-packages (from zuper-typing-z6>=6.0.66->duckietown-world-daffy->duckietown-gym-daffy==6.1.31) (0.4.3)\n",
            "Requirement already satisfied: termcolor in /usr/local/lib/python3.8/dist-packages (from zuper-typing-z6>=6.0.66->duckietown-world-daffy->duckietown-gym-daffy==6.1.31) (2.1.1)\n",
            "Requirement already satisfied: nose in /usr/local/lib/python3.8/dist-packages (from zuper-typing-z6>=6.0.66->duckietown-world-daffy->duckietown-gym-daffy==6.1.31) (1.3.7)\n",
            "Requirement already satisfied: jsonschema in /usr/local/lib/python3.8/dist-packages (from zuper-typing-z6>=6.0.66->duckietown-world-daffy->duckietown-gym-daffy==6.1.31) (4.3.3)\n",
            "Requirement already satisfied: webcolors in /usr/local/lib/python3.8/dist-packages (from zuper-commons-z6->duckietown-gym-daffy==6.1.31) (1.12)\n",
            "Requirement already satisfied: xtermcolor in /usr/local/lib/python3.8/dist-packages (from zuper-commons-z6->duckietown-gym-daffy==6.1.31) (1.3)\n",
            "Requirement already satisfied: zuper-nodes-z6>=6.2.8 in /usr/local/lib/python3.8/dist-packages (from aido-protocols-daffy->duckietown-world-daffy->duckietown-gym-daffy==6.1.31) (6.2.17)\n",
            "Requirement already satisfied: cbor2 in /usr/local/lib/python3.8/dist-packages (from zuper-nodes-z6>=6.2.8->aido-protocols-daffy->duckietown-world-daffy->duckietown-gym-daffy==6.1.31) (5.4.5)\n",
            "Requirement already satisfied: humanfriendly>=9.1 in /usr/local/lib/python3.8/dist-packages (from coloredlogs->duckietown-world-daffy->duckietown-gym-daffy==6.1.31) (10.0)\n",
            "Requirement already satisfied: dataclasses-json>=0.4.5 in /usr/local/lib/python3.8/dist-packages (from gltflib->duckietown-world-daffy->duckietown-gym-daffy==6.1.31) (0.5.7)\n",
            "Requirement already satisfied: marshmallow-enum<2.0.0,>=1.5.1 in /usr/local/lib/python3.8/dist-packages (from dataclasses-json>=0.4.5->gltflib->duckietown-world-daffy->duckietown-gym-daffy==6.1.31) (1.5.1)\n",
            "Requirement already satisfied: typing-inspect>=0.4.0 in /usr/local/lib/python3.8/dist-packages (from dataclasses-json>=0.4.5->gltflib->duckietown-world-daffy->duckietown-gym-daffy==6.1.31) (0.8.0)\n",
            "Requirement already satisfied: marshmallow<4.0.0,>=3.3.0 in /usr/local/lib/python3.8/dist-packages (from dataclasses-json>=0.4.5->gltflib->duckietown-world-daffy->duckietown-gym-daffy==6.1.31) (3.19.0)\n",
            "Requirement already satisfied: packaging>=17.0 in /usr/local/lib/python3.8/dist-packages (from marshmallow<4.0.0,>=3.3.0->dataclasses-json>=0.4.5->gltflib->duckietown-world-daffy->duckietown-gym-daffy==6.1.31) (21.3)\n",
            "Requirement already satisfied: traitlets>=4.2 in /usr/local/lib/python3.8/dist-packages (from ipython->duckietown-world-daffy->duckietown-gym-daffy==6.1.31) (5.1.1)\n",
            "Requirement already satisfied: setuptools>=18.5 in /usr/local/lib/python3.8/dist-packages (from ipython->duckietown-world-daffy->duckietown-gym-daffy==6.1.31) (57.4.0)\n",
            "Requirement already satisfied: jedi>=0.10 in /usr/local/lib/python3.8/dist-packages (from ipython->duckietown-world-daffy->duckietown-gym-daffy==6.1.31) (0.18.2)\n",
            "Requirement already satisfied: pygments in /usr/local/lib/python3.8/dist-packages (from ipython->duckietown-world-daffy->duckietown-gym-daffy==6.1.31) (2.6.1)\n",
            "Requirement already satisfied: pickleshare in /usr/local/lib/python3.8/dist-packages (from ipython->duckietown-world-daffy->duckietown-gym-daffy==6.1.31) (0.7.5)\n",
            "Requirement already satisfied: prompt-toolkit<2.1.0,>=2.0.0 in /usr/local/lib/python3.8/dist-packages (from ipython->duckietown-world-daffy->duckietown-gym-daffy==6.1.31) (2.0.10)\n",
            "Requirement already satisfied: pexpect in /usr/local/lib/python3.8/dist-packages (from ipython->duckietown-world-daffy->duckietown-gym-daffy==6.1.31) (4.8.0)\n",
            "Requirement already satisfied: decorator in /usr/local/lib/python3.8/dist-packages (from ipython->duckietown-world-daffy->duckietown-gym-daffy==6.1.31) (4.4.2)\n",
            "Requirement already satisfied: backcall in /usr/local/lib/python3.8/dist-packages (from ipython->duckietown-world-daffy->duckietown-gym-daffy==6.1.31) (0.2.0)\n",
            "Requirement already satisfied: parso<0.9.0,>=0.8.0 in /usr/local/lib/python3.8/dist-packages (from jedi>=0.10->ipython->duckietown-world-daffy->duckietown-gym-daffy==6.1.31) (0.8.3)\n",
            "Requirement already satisfied: wcwidth in /usr/local/lib/python3.8/dist-packages (from prompt-toolkit<2.1.0,>=2.0.0->ipython->duckietown-world-daffy->duckietown-gym-daffy==6.1.31) (0.2.5)\n",
            "Requirement already satisfied: cffi in /usr/local/lib/python3.8/dist-packages (from jpeg4py->duckietown-world-daffy->duckietown-gym-daffy==6.1.31) (1.15.1)\n",
            "Requirement already satisfied: pycparser in /usr/local/lib/python3.8/dist-packages (from cffi->jpeg4py->duckietown-world-daffy->duckietown-gym-daffy==6.1.31) (2.21)\n",
            "Requirement already satisfied: attrs>=17.4.0 in /usr/local/lib/python3.8/dist-packages (from jsonschema->zuper-typing-z6>=6.0.66->duckietown-world-daffy->duckietown-gym-daffy==6.1.31) (22.1.0)\n",
            "Requirement already satisfied: importlib-resources>=1.4.0 in /usr/local/lib/python3.8/dist-packages (from jsonschema->zuper-typing-z6>=6.0.66->duckietown-world-daffy->duckietown-gym-daffy==6.1.31) (5.10.0)\n",
            "Requirement already satisfied: pyrsistent!=0.17.0,!=0.17.1,!=0.17.2,>=0.14.0 in /usr/local/lib/python3.8/dist-packages (from jsonschema->zuper-typing-z6>=6.0.66->duckietown-world-daffy->duckietown-gym-daffy==6.1.31) (0.19.2)\n",
            "Requirement already satisfied: zipp>=3.1.0 in /usr/local/lib/python3.8/dist-packages (from importlib-resources>=1.4.0->jsonschema->zuper-typing-z6>=6.0.66->duckietown-world-daffy->duckietown-gym-daffy==6.1.31) (3.10.0)\n",
            "Requirement already satisfied: importlib-metadata>=4.4 in /usr/local/lib/python3.8/dist-packages (from Markdown->duckietown-world-daffy->duckietown-gym-daffy==6.1.31) (4.13.0)\n",
            "Requirement already satisfied: ptyprocess>=0.5 in /usr/local/lib/python3.8/dist-packages (from pexpect->ipython->duckietown-world-daffy->duckietown-gym-daffy==6.1.31) (0.7.0)\n",
            "Requirement already satisfied: tenacity>=6.2.0 in /usr/local/lib/python3.8/dist-packages (from plotly->duckietown-world-daffy->duckietown-gym-daffy==6.1.31) (8.1.0)\n",
            "Requirement already satisfied: freetype-py in /usr/local/lib/python3.8/dist-packages (from pyrender->duckietown-world-daffy->duckietown-gym-daffy==6.1.31) (2.3.0)\n",
            "Requirement already satisfied: PyOpenGL==3.1.0 in /usr/local/lib/python3.8/dist-packages (from pyrender->duckietown-world-daffy->duckietown-gym-daffy==6.1.31) (3.1.0)\n",
            "Requirement already satisfied: imageio in /usr/local/lib/python3.8/dist-packages (from pyrender->duckietown-world-daffy->duckietown-gym-daffy==6.1.31) (2.9.0)\n",
            "Requirement already satisfied: py-cid in /usr/local/lib/python3.8/dist-packages (from zuper-ipce-z6->duckietown-world-daffy->duckietown-gym-daffy==6.1.31) (0.3.0)\n",
            "Requirement already satisfied: py-multihash in /usr/local/lib/python3.8/dist-packages (from zuper-ipce-z6->duckietown-world-daffy->duckietown-gym-daffy==6.1.31) (0.2.3)\n",
            "Requirement already satisfied: py-multibase<2.0.0,>=1.0.0 in /usr/local/lib/python3.8/dist-packages (from py-cid->zuper-ipce-z6->duckietown-world-daffy->duckietown-gym-daffy==6.1.31) (1.0.3)\n",
            "Requirement already satisfied: morphys<2.0,>=1.0 in /usr/local/lib/python3.8/dist-packages (from py-cid->zuper-ipce-z6->duckietown-world-daffy->duckietown-gym-daffy==6.1.31) (1.0)\n",
            "Requirement already satisfied: py-multicodec<0.3.0 in /usr/local/lib/python3.8/dist-packages (from py-cid->zuper-ipce-z6->duckietown-world-daffy->duckietown-gym-daffy==6.1.31) (0.2.1)\n",
            "Requirement already satisfied: python-baseconv<2.0,>=1.2.0 in /usr/local/lib/python3.8/dist-packages (from py-multibase<2.0.0,>=1.0.0->py-cid->zuper-ipce-z6->duckietown-world-daffy->duckietown-gym-daffy==6.1.31) (1.2.2)\n",
            "Requirement already satisfied: varint<2.0.0,>=1.0.2 in /usr/local/lib/python3.8/dist-packages (from py-multicodec<0.3.0->py-cid->zuper-ipce-z6->duckietown-world-daffy->duckietown-gym-daffy==6.1.31) (1.0.2)\n",
            "Installing collected packages: duckietown-gym-daffy\n",
            "  Running setup.py develop for duckietown-gym-daffy\n",
            "\u001b[31mERROR: Command errored out with exit status 1: /usr/bin/python3 -c 'import io, os, sys, setuptools, tokenize; sys.argv[0] = '\"'\"'/content/Self-Driving-in-Duckietown/setup.py'\"'\"'; __file__='\"'\"'/content/Self-Driving-in-Duckietown/setup.py'\"'\"';f = getattr(tokenize, '\"'\"'open'\"'\"', open)(__file__) if os.path.exists(__file__) else io.StringIO('\"'\"'from setuptools import setup; setup()'\"'\"');code = f.read().replace('\"'\"'\\r\\n'\"'\"', '\"'\"'\\n'\"'\"');f.close();exec(compile(code, __file__, '\"'\"'exec'\"'\"'))' develop --no-deps Check the logs for full command output.\u001b[0m\n"
          ]
        }
      ]
    },
    {
      "cell_type": "markdown",
      "id": "c72937e5",
      "metadata": {
        "id": "c72937e5"
      },
      "source": [
        "## Initialize environment"
      ]
    },
    {
      "cell_type": "code",
      "source": [
        "!pip install stable_baselines3"
      ],
      "metadata": {
        "colab": {
          "base_uri": "https://localhost:8080/"
        },
        "id": "437aVwN-7gRf",
        "outputId": "6f07b03f-542b-4958-eab5-4f42be477c9e"
      },
      "id": "437aVwN-7gRf",
      "execution_count": 5,
      "outputs": [
        {
          "output_type": "stream",
          "name": "stdout",
          "text": [
            "Looking in indexes: https://pypi.org/simple, https://us-python.pkg.dev/colab-wheels/public/simple/\n",
            "Requirement already satisfied: stable_baselines3 in /usr/local/lib/python3.8/dist-packages (1.6.2)\n",
            "Requirement already satisfied: gym==0.21 in /usr/local/lib/python3.8/dist-packages (from stable_baselines3) (0.21.0)\n",
            "Requirement already satisfied: importlib-metadata~=4.13 in /usr/local/lib/python3.8/dist-packages (from stable_baselines3) (4.13.0)\n",
            "Requirement already satisfied: cloudpickle in /usr/local/lib/python3.8/dist-packages (from stable_baselines3) (1.5.0)\n",
            "Requirement already satisfied: pandas in /usr/local/lib/python3.8/dist-packages (from stable_baselines3) (1.3.5)\n",
            "Requirement already satisfied: matplotlib in /usr/local/lib/python3.8/dist-packages (from stable_baselines3) (3.2.2)\n",
            "Requirement already satisfied: torch>=1.11 in /usr/local/lib/python3.8/dist-packages (from stable_baselines3) (1.12.1+cu113)\n",
            "Requirement already satisfied: numpy in /usr/local/lib/python3.8/dist-packages (from stable_baselines3) (1.21.6)\n",
            "Requirement already satisfied: zipp>=0.5 in /usr/local/lib/python3.8/dist-packages (from importlib-metadata~=4.13->stable_baselines3) (3.10.0)\n",
            "Requirement already satisfied: typing-extensions in /usr/local/lib/python3.8/dist-packages (from torch>=1.11->stable_baselines3) (4.1.1)\n",
            "Requirement already satisfied: pyparsing!=2.0.4,!=2.1.2,!=2.1.6,>=2.0.1 in /usr/local/lib/python3.8/dist-packages (from matplotlib->stable_baselines3) (3.0.9)\n",
            "Requirement already satisfied: cycler>=0.10 in /usr/local/lib/python3.8/dist-packages (from matplotlib->stable_baselines3) (0.11.0)\n",
            "Requirement already satisfied: kiwisolver>=1.0.1 in /usr/local/lib/python3.8/dist-packages (from matplotlib->stable_baselines3) (1.4.4)\n",
            "Requirement already satisfied: python-dateutil>=2.1 in /usr/local/lib/python3.8/dist-packages (from matplotlib->stable_baselines3) (2.8.2)\n",
            "Requirement already satisfied: six>=1.5 in /usr/local/lib/python3.8/dist-packages (from python-dateutil>=2.1->matplotlib->stable_baselines3) (1.15.0)\n",
            "Requirement already satisfied: pytz>=2017.3 in /usr/local/lib/python3.8/dist-packages (from pandas->stable_baselines3) (2022.6)\n"
          ]
        }
      ]
    },
    {
      "cell_type": "code",
      "execution_count": 6,
      "id": "02eb43e5",
      "metadata": {
        "colab": {
          "base_uri": "https://localhost:8080/"
        },
        "id": "02eb43e5",
        "outputId": "8025ec1b-7757-4174-8319-ec563575d4f2"
      },
      "outputs": [
        {
          "output_type": "stream",
          "name": "stderr",
          "text": [
            "DEBUG:commons:version: 6.2.4 *\n",
            "DEBUG:typing:version: 6.2.3\n",
            "DEBUG:duckietown_world:duckietown-world version 6.4.3 path /usr/local/lib/python3.8/dist-packages\n",
            "DEBUG:geometry:PyGeometry-z6 version 2.1.4 path /usr/local/lib/python3.8/dist-packages\n",
            "DEBUG:aido_schemas:aido-protocols version 6.1.1 path /usr/local/lib/python3.8/dist-packages\n",
            "DEBUG:nodes:version 6.2.17 path /usr/local/lib/python3.8/dist-packages pyparsing 3.0.9\n",
            "DEBUG:gym-duckietown:gym-duckietown version 6.1.31 path /content/Self-Driving-in-Duckietown\n",
            "\n"
          ]
        },
        {
          "output_type": "stream",
          "name": "stdout",
          "text": [
            "{'audio': ('xaudio2', 'directsound', 'openal', 'pulse', 'silent'), 'debug_font': False, 'debug_gl': True, 'debug_gl_trace': False, 'debug_gl_trace_args': False, 'debug_gl_shaders': False, 'debug_graphics_batch': False, 'debug_lib': False, 'debug_media': False, 'debug_texture': False, 'debug_trace': False, 'debug_trace_args': False, 'debug_trace_depth': 1, 'debug_trace_flush': True, 'debug_win32': False, 'debug_input': False, 'debug_x11': False, 'shadow_window': True, 'vsync': None, 'xsync': True, 'xlib_fullscreen_override_redirect': False, 'search_local_libs': True, 'win32_gdi_font': False, 'headless': False, 'headless_device': 0, 'win32_disable_shaping': False}\n"
          ]
        }
      ],
      "source": [
        "import gym\n",
        "import numpy as np\n",
        "import torch as th\n",
        "import matplotlib.pyplot as plt\n",
        "import gym_duckietown\n",
        "from env import launch_env\n",
        "\n",
        "\n",
        "from stable_baselines3 import PPO\n",
        "from stable_baselines3.common.callbacks import CheckpointCallback"
      ]
    },
    {
      "cell_type": "code",
      "execution_count": 7,
      "id": "c08085db",
      "metadata": {
        "scrolled": true,
        "colab": {
          "base_uri": "https://localhost:8080/",
          "height": 365
        },
        "id": "c08085db",
        "outputId": "3bfa5e8c-f8dc-440a-ad9e-434376a91a12"
      },
      "outputs": [
        {
          "output_type": "stream",
          "name": "stderr",
          "text": [
            "/usr/local/lib/python3.8/dist-packages/pyglet/canvas/headless.py:65: UserWarning: No device available for EGL device platform. Using native display type.\n",
            "  warnings.warn('No device available for EGL device platform. Using native display type.')\n"
          ]
        },
        {
          "output_type": "error",
          "ename": "ValueError",
          "evalue": "ignored",
          "traceback": [
            "\u001b[0;31m---------------------------------------------------------------------------\u001b[0m",
            "\u001b[0;31mValueError\u001b[0m                                Traceback (most recent call last)",
            "\u001b[0;32m<ipython-input-7-e8ededb36e75>\u001b[0m in \u001b[0;36m<module>\u001b[0;34m\u001b[0m\n\u001b[0;32m----> 1\u001b[0;31m \u001b[0menv\u001b[0m \u001b[0;34m=\u001b[0m \u001b[0mlaunch_env\u001b[0m\u001b[0;34m(\u001b[0m\u001b[0;34m)\u001b[0m\u001b[0;34m\u001b[0m\u001b[0;34m\u001b[0m\u001b[0m\n\u001b[0m",
            "\u001b[0;32m/content/Self-Driving-in-Duckietown/env.py\u001b[0m in \u001b[0;36mlaunch_env\u001b[0;34m(id, map)\u001b[0m\n\u001b[1;32m     14\u001b[0m     \u001b[0menv\u001b[0m \u001b[0;34m=\u001b[0m \u001b[0;32mNone\u001b[0m\u001b[0;34m\u001b[0m\u001b[0;34m\u001b[0m\u001b[0m\n\u001b[1;32m     15\u001b[0m     \u001b[0;32mif\u001b[0m \u001b[0mid\u001b[0m \u001b[0;32mis\u001b[0m \u001b[0;32mNone\u001b[0m\u001b[0;34m:\u001b[0m\u001b[0;34m\u001b[0m\u001b[0;34m\u001b[0m\u001b[0m\n\u001b[0;32m---> 16\u001b[0;31m         \u001b[0;32mfrom\u001b[0m \u001b[0mgym_duckietown\u001b[0m\u001b[0;34m.\u001b[0m\u001b[0msimulator\u001b[0m \u001b[0;32mimport\u001b[0m \u001b[0mSimulator\u001b[0m\u001b[0;34m\u001b[0m\u001b[0;34m\u001b[0m\u001b[0m\n\u001b[0m\u001b[1;32m     17\u001b[0m \u001b[0;34m\u001b[0m\u001b[0m\n\u001b[1;32m     18\u001b[0m         env = Simulator(\n",
            "\u001b[0;32m/content/Self-Driving-in-Duckietown/gym_duckietown/simulator.py\u001b[0m in \u001b[0;36m<module>\u001b[0;34m\u001b[0m\n\u001b[1;32m     42\u001b[0m \u001b[0;32mfrom\u001b[0m \u001b[0;34m.\u001b[0m \u001b[0;32mimport\u001b[0m \u001b[0mlogger\u001b[0m\u001b[0;34m\u001b[0m\u001b[0;34m\u001b[0m\u001b[0m\n\u001b[1;32m     43\u001b[0m \u001b[0;32mfrom\u001b[0m \u001b[0;34m.\u001b[0m\u001b[0mcheck_hw\u001b[0m \u001b[0;32mimport\u001b[0m \u001b[0mget_graphics_information\u001b[0m\u001b[0;34m\u001b[0m\u001b[0;34m\u001b[0m\u001b[0m\n\u001b[0;32m---> 44\u001b[0;31m from .collision import (\n\u001b[0m\u001b[1;32m     45\u001b[0m     \u001b[0magent_boundbox\u001b[0m\u001b[0;34m,\u001b[0m\u001b[0;34m\u001b[0m\u001b[0;34m\u001b[0m\u001b[0m\n\u001b[1;32m     46\u001b[0m     \u001b[0mgenerate_norm\u001b[0m\u001b[0;34m,\u001b[0m\u001b[0;34m\u001b[0m\u001b[0;34m\u001b[0m\u001b[0m\n",
            "\u001b[0;32m/content/Self-Driving-in-Duckietown/gym_duckietown/collision.py\u001b[0m in \u001b[0;36m<module>\u001b[0;34m\u001b[0m\n\u001b[1;32m      4\u001b[0m \u001b[0;32mimport\u001b[0m \u001b[0mnumpy\u001b[0m \u001b[0;32mas\u001b[0m \u001b[0mnp\u001b[0m\u001b[0;34m\u001b[0m\u001b[0;34m\u001b[0m\u001b[0m\n\u001b[1;32m      5\u001b[0m \u001b[0;34m\u001b[0m\u001b[0m\n\u001b[0;32m----> 6\u001b[0;31m \u001b[0;32mfrom\u001b[0m \u001b[0;34m.\u001b[0m\u001b[0mgraphics\u001b[0m \u001b[0;32mimport\u001b[0m \u001b[0mrotate_point\u001b[0m\u001b[0;34m\u001b[0m\u001b[0;34m\u001b[0m\u001b[0m\n\u001b[0m\u001b[1;32m      7\u001b[0m \u001b[0;34m\u001b[0m\u001b[0m\n\u001b[1;32m      8\u001b[0m \u001b[0;34m\u001b[0m\u001b[0m\n",
            "\u001b[0;32m/content/Self-Driving-in-Duckietown/gym_duckietown/graphics.py\u001b[0m in \u001b[0;36m<module>\u001b[0;34m\u001b[0m\n\u001b[1;32m      8\u001b[0m \u001b[0;32mimport\u001b[0m \u001b[0mnumpy\u001b[0m \u001b[0;32mas\u001b[0m \u001b[0mnp\u001b[0m\u001b[0;34m\u001b[0m\u001b[0;34m\u001b[0m\u001b[0m\n\u001b[1;32m      9\u001b[0m \u001b[0;32mimport\u001b[0m \u001b[0mpyglet\u001b[0m\u001b[0;34m\u001b[0m\u001b[0;34m\u001b[0m\u001b[0m\n\u001b[0;32m---> 10\u001b[0;31m \u001b[0;32mimport\u001b[0m \u001b[0mpyglet\u001b[0m\u001b[0;34m.\u001b[0m\u001b[0mimage\u001b[0m\u001b[0;34m\u001b[0m\u001b[0;34m\u001b[0m\u001b[0m\n\u001b[0m\u001b[1;32m     11\u001b[0m \u001b[0;32mfrom\u001b[0m \u001b[0mPIL\u001b[0m \u001b[0;32mimport\u001b[0m \u001b[0mImage\u001b[0m\u001b[0;34m\u001b[0m\u001b[0;34m\u001b[0m\u001b[0m\n\u001b[1;32m     12\u001b[0m \u001b[0;32mfrom\u001b[0m \u001b[0mpyglet\u001b[0m \u001b[0;32mimport\u001b[0m \u001b[0mgl\u001b[0m\u001b[0;34m\u001b[0m\u001b[0;34m\u001b[0m\u001b[0m\n",
            "\u001b[0;32m/usr/local/lib/python3.8/dist-packages/pyglet/image/__init__.py\u001b[0m in \u001b[0;36m<module>\u001b[0;34m\u001b[0m\n\u001b[1;32m    137\u001b[0m \u001b[0;32mimport\u001b[0m \u001b[0mpyglet\u001b[0m\u001b[0;34m\u001b[0m\u001b[0;34m\u001b[0m\u001b[0m\n\u001b[1;32m    138\u001b[0m \u001b[0;34m\u001b[0m\u001b[0m\n\u001b[0;32m--> 139\u001b[0;31m \u001b[0;32mfrom\u001b[0m \u001b[0mpyglet\u001b[0m\u001b[0;34m.\u001b[0m\u001b[0mgl\u001b[0m \u001b[0;32mimport\u001b[0m \u001b[0;34m*\u001b[0m\u001b[0;34m\u001b[0m\u001b[0;34m\u001b[0m\u001b[0m\n\u001b[0m\u001b[1;32m    140\u001b[0m \u001b[0;32mfrom\u001b[0m \u001b[0mpyglet\u001b[0m\u001b[0;34m.\u001b[0m\u001b[0mgl\u001b[0m \u001b[0;32mimport\u001b[0m \u001b[0mgl_info\u001b[0m\u001b[0;34m\u001b[0m\u001b[0;34m\u001b[0m\u001b[0m\n\u001b[1;32m    141\u001b[0m \u001b[0;32mfrom\u001b[0m \u001b[0mpyglet\u001b[0m\u001b[0;34m.\u001b[0m\u001b[0mutil\u001b[0m \u001b[0;32mimport\u001b[0m \u001b[0masbytes\u001b[0m\u001b[0;34m\u001b[0m\u001b[0;34m\u001b[0m\u001b[0m\n",
            "\u001b[0;32m/usr/local/lib/python3.8/dist-packages/pyglet/gl/__init__.py\u001b[0m in \u001b[0;36m<module>\u001b[0;34m\u001b[0m\n\u001b[1;32m    224\u001b[0m     \u001b[0;31m# trickery is for circular import\u001b[0m\u001b[0;34m\u001b[0m\u001b[0;34m\u001b[0m\u001b[0;34m\u001b[0m\u001b[0m\n\u001b[1;32m    225\u001b[0m     \u001b[0m_pyglet\u001b[0m\u001b[0;34m.\u001b[0m\u001b[0mgl\u001b[0m \u001b[0;34m=\u001b[0m \u001b[0m_sys\u001b[0m\u001b[0;34m.\u001b[0m\u001b[0mmodules\u001b[0m\u001b[0;34m[\u001b[0m\u001b[0m__name__\u001b[0m\u001b[0;34m]\u001b[0m\u001b[0;34m\u001b[0m\u001b[0;34m\u001b[0m\u001b[0m\n\u001b[0;32m--> 226\u001b[0;31m     \u001b[0;32mimport\u001b[0m \u001b[0mpyglet\u001b[0m\u001b[0;34m.\u001b[0m\u001b[0mwindow\u001b[0m\u001b[0;34m\u001b[0m\u001b[0;34m\u001b[0m\u001b[0m\n\u001b[0m",
            "\u001b[0;32m/usr/local/lib/python3.8/dist-packages/pyglet/window/__init__.py\u001b[0m in \u001b[0;36m<module>\u001b[0;34m\u001b[0m\n\u001b[1;32m   1913\u001b[0m \u001b[0;32mif\u001b[0m \u001b[0;32mnot\u001b[0m \u001b[0m_is_pyglet_doc_run\u001b[0m\u001b[0;34m:\u001b[0m\u001b[0;34m\u001b[0m\u001b[0;34m\u001b[0m\u001b[0m\n\u001b[1;32m   1914\u001b[0m     \u001b[0mpyglet\u001b[0m\u001b[0;34m.\u001b[0m\u001b[0mwindow\u001b[0m \u001b[0;34m=\u001b[0m \u001b[0msys\u001b[0m\u001b[0;34m.\u001b[0m\u001b[0mmodules\u001b[0m\u001b[0;34m[\u001b[0m\u001b[0m__name__\u001b[0m\u001b[0;34m]\u001b[0m\u001b[0;34m\u001b[0m\u001b[0;34m\u001b[0m\u001b[0m\n\u001b[0;32m-> 1915\u001b[0;31m     \u001b[0mgl\u001b[0m\u001b[0;34m.\u001b[0m\u001b[0m_create_shadow_window\u001b[0m\u001b[0;34m(\u001b[0m\u001b[0;34m)\u001b[0m\u001b[0;34m\u001b[0m\u001b[0;34m\u001b[0m\u001b[0m\n\u001b[0m",
            "\u001b[0;32m/usr/local/lib/python3.8/dist-packages/pyglet/gl/__init__.py\u001b[0m in \u001b[0;36m_create_shadow_window\u001b[0;34m()\u001b[0m\n\u001b[1;32m    198\u001b[0m             \u001b[0;32mpass\u001b[0m\u001b[0;34m\u001b[0m\u001b[0;34m\u001b[0m\u001b[0m\n\u001b[1;32m    199\u001b[0m \u001b[0;34m\u001b[0m\u001b[0m\n\u001b[0;32m--> 200\u001b[0;31m     \u001b[0m_shadow_window\u001b[0m \u001b[0;34m=\u001b[0m \u001b[0mShadowWindow\u001b[0m\u001b[0;34m(\u001b[0m\u001b[0;34m)\u001b[0m\u001b[0;34m\u001b[0m\u001b[0;34m\u001b[0m\u001b[0m\n\u001b[0m\u001b[1;32m    201\u001b[0m     \u001b[0m_shadow_window\u001b[0m\u001b[0;34m.\u001b[0m\u001b[0mswitch_to\u001b[0m\u001b[0;34m(\u001b[0m\u001b[0;34m)\u001b[0m\u001b[0;34m\u001b[0m\u001b[0;34m\u001b[0m\u001b[0m\n\u001b[1;32m    202\u001b[0m \u001b[0;34m\u001b[0m\u001b[0m\n",
            "\u001b[0;32m/usr/local/lib/python3.8/dist-packages/pyglet/gl/__init__.py\u001b[0m in \u001b[0;36m__init__\u001b[0;34m(self)\u001b[0m\n\u001b[1;32m    192\u001b[0m     \u001b[0;32mclass\u001b[0m \u001b[0mShadowWindow\u001b[0m\u001b[0;34m(\u001b[0m\u001b[0mWindow\u001b[0m\u001b[0;34m)\u001b[0m\u001b[0;34m:\u001b[0m\u001b[0;34m\u001b[0m\u001b[0;34m\u001b[0m\u001b[0m\n\u001b[1;32m    193\u001b[0m         \u001b[0;32mdef\u001b[0m \u001b[0m__init__\u001b[0m\u001b[0;34m(\u001b[0m\u001b[0mself\u001b[0m\u001b[0;34m)\u001b[0m\u001b[0;34m:\u001b[0m\u001b[0;34m\u001b[0m\u001b[0;34m\u001b[0m\u001b[0m\n\u001b[0;32m--> 194\u001b[0;31m             \u001b[0msuper\u001b[0m\u001b[0;34m(\u001b[0m\u001b[0;34m)\u001b[0m\u001b[0;34m.\u001b[0m\u001b[0m__init__\u001b[0m\u001b[0;34m(\u001b[0m\u001b[0mwidth\u001b[0m\u001b[0;34m=\u001b[0m\u001b[0;36m1\u001b[0m\u001b[0;34m,\u001b[0m \u001b[0mheight\u001b[0m\u001b[0;34m=\u001b[0m\u001b[0;36m1\u001b[0m\u001b[0;34m,\u001b[0m \u001b[0mvisible\u001b[0m\u001b[0;34m=\u001b[0m\u001b[0;32mFalse\u001b[0m\u001b[0;34m)\u001b[0m\u001b[0;34m\u001b[0m\u001b[0;34m\u001b[0m\u001b[0m\n\u001b[0m\u001b[1;32m    195\u001b[0m \u001b[0;34m\u001b[0m\u001b[0m\n\u001b[1;32m    196\u001b[0m         \u001b[0;32mdef\u001b[0m \u001b[0m_create_projection\u001b[0m\u001b[0;34m(\u001b[0m\u001b[0mself\u001b[0m\u001b[0;34m)\u001b[0m\u001b[0;34m:\u001b[0m\u001b[0;34m\u001b[0m\u001b[0;34m\u001b[0m\u001b[0m\n",
            "\u001b[0;32m/usr/local/lib/python3.8/dist-packages/pyglet/window/__init__.py\u001b[0m in \u001b[0;36m__init__\u001b[0;34m(self, width, height, caption, resizable, style, fullscreen, visible, vsync, file_drops, display, screen, config, context, mode)\u001b[0m\n\u001b[1;32m    556\u001b[0m                                     None]:\n\u001b[1;32m    557\u001b[0m                 \u001b[0;32mtry\u001b[0m\u001b[0;34m:\u001b[0m\u001b[0;34m\u001b[0m\u001b[0;34m\u001b[0m\u001b[0m\n\u001b[0;32m--> 558\u001b[0;31m                     \u001b[0mconfig\u001b[0m \u001b[0;34m=\u001b[0m \u001b[0mscreen\u001b[0m\u001b[0;34m.\u001b[0m\u001b[0mget_best_config\u001b[0m\u001b[0;34m(\u001b[0m\u001b[0mtemplate_config\u001b[0m\u001b[0;34m)\u001b[0m\u001b[0;34m\u001b[0m\u001b[0;34m\u001b[0m\u001b[0m\n\u001b[0m\u001b[1;32m    559\u001b[0m                     \u001b[0;32mbreak\u001b[0m\u001b[0;34m\u001b[0m\u001b[0;34m\u001b[0m\u001b[0m\n\u001b[1;32m    560\u001b[0m                 \u001b[0;32mexcept\u001b[0m \u001b[0mNoSuchConfigException\u001b[0m\u001b[0;34m:\u001b[0m\u001b[0;34m\u001b[0m\u001b[0;34m\u001b[0m\u001b[0m\n",
            "\u001b[0;32m/usr/local/lib/python3.8/dist-packages/pyglet/canvas/base.py\u001b[0m in \u001b[0;36mget_best_config\u001b[0;34m(self, template)\u001b[0m\n\u001b[1;32m    189\u001b[0m                     \u001b[0;32mpass\u001b[0m\u001b[0;34m\u001b[0m\u001b[0;34m\u001b[0m\u001b[0m\n\u001b[1;32m    190\u001b[0m         \u001b[0;32melse\u001b[0m\u001b[0;34m:\u001b[0m\u001b[0;34m\u001b[0m\u001b[0;34m\u001b[0m\u001b[0m\n\u001b[0;32m--> 191\u001b[0;31m             \u001b[0mconfigs\u001b[0m \u001b[0;34m=\u001b[0m \u001b[0mself\u001b[0m\u001b[0;34m.\u001b[0m\u001b[0mget_matching_configs\u001b[0m\u001b[0;34m(\u001b[0m\u001b[0mtemplate\u001b[0m\u001b[0;34m)\u001b[0m\u001b[0;34m\u001b[0m\u001b[0;34m\u001b[0m\u001b[0m\n\u001b[0m\u001b[1;32m    192\u001b[0m         \u001b[0;32mif\u001b[0m \u001b[0;32mnot\u001b[0m \u001b[0mconfigs\u001b[0m\u001b[0;34m:\u001b[0m\u001b[0;34m\u001b[0m\u001b[0;34m\u001b[0m\u001b[0m\n\u001b[1;32m    193\u001b[0m             \u001b[0;32mraise\u001b[0m \u001b[0mwindow\u001b[0m\u001b[0;34m.\u001b[0m\u001b[0mNoSuchConfigException\u001b[0m\u001b[0;34m(\u001b[0m\u001b[0;34m)\u001b[0m\u001b[0;34m\u001b[0m\u001b[0;34m\u001b[0m\u001b[0m\n",
            "\u001b[0;32m/usr/local/lib/python3.8/dist-packages/pyglet/canvas/headless.py\u001b[0m in \u001b[0;36mget_matching_configs\u001b[0;34m(self, template)\u001b[0m\n\u001b[1;32m     88\u001b[0m     \u001b[0;32mdef\u001b[0m \u001b[0mget_matching_configs\u001b[0m\u001b[0;34m(\u001b[0m\u001b[0mself\u001b[0m\u001b[0;34m,\u001b[0m \u001b[0mtemplate\u001b[0m\u001b[0;34m)\u001b[0m\u001b[0;34m:\u001b[0m\u001b[0;34m\u001b[0m\u001b[0;34m\u001b[0m\u001b[0m\n\u001b[1;32m     89\u001b[0m         \u001b[0mcanvas\u001b[0m \u001b[0;34m=\u001b[0m \u001b[0mHeadlessCanvas\u001b[0m\u001b[0;34m(\u001b[0m\u001b[0mself\u001b[0m\u001b[0;34m.\u001b[0m\u001b[0mdisplay\u001b[0m\u001b[0;34m,\u001b[0m \u001b[0;32mNone\u001b[0m\u001b[0;34m)\u001b[0m\u001b[0;34m\u001b[0m\u001b[0;34m\u001b[0m\u001b[0m\n\u001b[0;32m---> 90\u001b[0;31m         \u001b[0mconfigs\u001b[0m \u001b[0;34m=\u001b[0m \u001b[0mtemplate\u001b[0m\u001b[0;34m.\u001b[0m\u001b[0mmatch\u001b[0m\u001b[0;34m(\u001b[0m\u001b[0mcanvas\u001b[0m\u001b[0;34m)\u001b[0m\u001b[0;34m\u001b[0m\u001b[0;34m\u001b[0m\u001b[0m\n\u001b[0m\u001b[1;32m     91\u001b[0m         \u001b[0;31m# XXX deprecate\u001b[0m\u001b[0;34m\u001b[0m\u001b[0;34m\u001b[0m\u001b[0;34m\u001b[0m\u001b[0m\n\u001b[1;32m     92\u001b[0m         \u001b[0;32mfor\u001b[0m \u001b[0mconfig\u001b[0m \u001b[0;32min\u001b[0m \u001b[0mconfigs\u001b[0m\u001b[0;34m:\u001b[0m\u001b[0;34m\u001b[0m\u001b[0;34m\u001b[0m\u001b[0m\n",
            "\u001b[0;32m/usr/local/lib/python3.8/dist-packages/pyglet/gl/headless.py\u001b[0m in \u001b[0;36mmatch\u001b[0;34m(self, canvas)\u001b[0m\n\u001b[1;32m     75\u001b[0m             \u001b[0mattrs\u001b[0m\u001b[0;34m.\u001b[0m\u001b[0mextend\u001b[0m\u001b[0;34m(\u001b[0m\u001b[0;34m[\u001b[0m\u001b[0mEGL_RENDERABLE_TYPE\u001b[0m\u001b[0;34m,\u001b[0m \u001b[0mEGL_OPENGL_ES3_BIT\u001b[0m\u001b[0;34m]\u001b[0m\u001b[0;34m)\u001b[0m\u001b[0;34m\u001b[0m\u001b[0;34m\u001b[0m\u001b[0m\n\u001b[1;32m     76\u001b[0m         \u001b[0;32melse\u001b[0m\u001b[0;34m:\u001b[0m\u001b[0;34m\u001b[0m\u001b[0;34m\u001b[0m\u001b[0m\n\u001b[0;32m---> 77\u001b[0;31m             \u001b[0;32mraise\u001b[0m \u001b[0mValueError\u001b[0m\u001b[0;34m(\u001b[0m\u001b[0;34mf\"Unknown OpenGL API: {self.opengl_api}\"\u001b[0m\u001b[0;34m)\u001b[0m\u001b[0;34m\u001b[0m\u001b[0;34m\u001b[0m\u001b[0m\n\u001b[0m\u001b[1;32m     78\u001b[0m         \u001b[0mattrs\u001b[0m\u001b[0;34m.\u001b[0m\u001b[0mextend\u001b[0m\u001b[0;34m(\u001b[0m\u001b[0;34m[\u001b[0m\u001b[0mEGL_NONE\u001b[0m\u001b[0;34m]\u001b[0m\u001b[0;34m)\u001b[0m\u001b[0;34m\u001b[0m\u001b[0;34m\u001b[0m\u001b[0m\n\u001b[1;32m     79\u001b[0m         \u001b[0mattrs_list\u001b[0m \u001b[0;34m=\u001b[0m \u001b[0;34m(\u001b[0m\u001b[0megl\u001b[0m\u001b[0;34m.\u001b[0m\u001b[0mEGLint\u001b[0m \u001b[0;34m*\u001b[0m \u001b[0mlen\u001b[0m\u001b[0;34m(\u001b[0m\u001b[0mattrs\u001b[0m\u001b[0;34m)\u001b[0m\u001b[0;34m)\u001b[0m\u001b[0;34m(\u001b[0m\u001b[0;34m*\u001b[0m\u001b[0mattrs\u001b[0m\u001b[0;34m)\u001b[0m\u001b[0;34m\u001b[0m\u001b[0;34m\u001b[0m\u001b[0m\n",
            "\u001b[0;31mValueError\u001b[0m: Unknown OpenGL API: None"
          ]
        }
      ],
      "source": [
        "env = launch_env()"
      ]
    },
    {
      "cell_type": "code",
      "execution_count": null,
      "id": "dd167be2",
      "metadata": {
        "id": "dd167be2"
      },
      "outputs": [],
      "source": [
        "%load_ext tensorboard\n",
        "tb_log = \"..\\\\log\\\\\" #TODO"
      ]
    },
    {
      "cell_type": "code",
      "execution_count": null,
      "id": "5dd2d390",
      "metadata": {
        "scrolled": false,
        "id": "5dd2d390"
      },
      "outputs": [],
      "source": [
        "ppo_model = PPO(policy='MlpPolicy',\n",
        "                env=env,\n",
        "                learning_rate=5.e-5,\n",
        "                gamma=0.99,\n",
        "                tensorboard_log=tb_log,\n",
        "                verbose=1)"
      ]
    },
    {
      "cell_type": "markdown",
      "id": "b6cada27",
      "metadata": {
        "id": "b6cada27"
      },
      "source": [
        "## Learning"
      ]
    },
    {
      "cell_type": "code",
      "execution_count": null,
      "id": "43551af7",
      "metadata": {
        "id": "43551af7"
      },
      "outputs": [],
      "source": [
        "checkpoint_callback = CheckpointCallback(\n",
        "  save_freq=1000,\n",
        "  save_path=\"..\\\\saves\\\\\", #TODO\n",
        "  name_prefix=\"ppo_model\",)"
      ]
    },
    {
      "cell_type": "code",
      "execution_count": null,
      "id": "013e901e",
      "metadata": {
        "scrolled": true,
        "id": "013e901e"
      },
      "outputs": [],
      "source": [
        "ppo_model.learn(total_timesteps=100000, callback=checkpoint_callback)"
      ]
    },
    {
      "cell_type": "markdown",
      "id": "09f6ce0b",
      "metadata": {
        "id": "09f6ce0b"
      },
      "source": [
        "## Model Loading"
      ]
    },
    {
      "cell_type": "code",
      "execution_count": null,
      "id": "e1543163",
      "metadata": {
        "id": "e1543163"
      },
      "outputs": [],
      "source": [
        "env = launch_env(map=\"straight_road\")\n",
        "ppo_model = PPO.load(\"..\\\\saves\\\\ppo_model_80000_steps\")"
      ]
    },
    {
      "cell_type": "markdown",
      "id": "20e2b62a",
      "metadata": {
        "id": "20e2b62a"
      },
      "source": [
        "## Model Logging"
      ]
    },
    {
      "cell_type": "code",
      "execution_count": null,
      "id": "bc57aa2c",
      "metadata": {
        "id": "bc57aa2c"
      },
      "outputs": [],
      "source": [
        "%tensorboard --logdir tb_log"
      ]
    },
    {
      "cell_type": "markdown",
      "id": "d2e34d48",
      "metadata": {
        "id": "d2e34d48"
      },
      "source": [
        "## Model Testing"
      ]
    },
    {
      "cell_type": "code",
      "execution_count": null,
      "id": "501b6b17",
      "metadata": {
        "id": "501b6b17"
      },
      "outputs": [],
      "source": [
        "cutoff = 256\n",
        "with th.no_grad():\n",
        "    while True:\n",
        "        obs = env.reset()\n",
        "        env.render()\n",
        "        rewards = []\n",
        "        steps = 0\n",
        "        while True:\n",
        "            action, _states = ppo_model.predict(obs, deterministic=True)\n",
        "            obs, rew, done, misc = env.step(action)\n",
        "            rewards.append(rew)\n",
        "            env.render()\n",
        "            steps += 1\n",
        "            if done or steps >= cutoff:\n",
        "                break\n",
        "        print(\"mean episode reward:\", np.mean(rewards))"
      ]
    }
  ],
  "metadata": {
    "kernelspec": {
      "display_name": "Python 3 (ipykernel)",
      "language": "python",
      "name": "python3"
    },
    "language_info": {
      "codemirror_mode": {
        "name": "ipython",
        "version": 3
      },
      "file_extension": ".py",
      "mimetype": "text/x-python",
      "name": "python",
      "nbconvert_exporter": "python",
      "pygments_lexer": "ipython3",
      "version": "3.8.13"
    },
    "vscode": {
      "interpreter": {
        "hash": "08a26240bb99bf6b2d829f319099ca516958c43a63eb9bb458a964dd535085d4"
      }
    },
    "colab": {
      "provenance": []
    }
  },
  "nbformat": 4,
  "nbformat_minor": 5
}