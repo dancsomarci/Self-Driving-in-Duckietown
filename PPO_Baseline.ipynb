{
 "cells": [
  {
   "cell_type": "markdown",
   "id": "1efa4aa0",
   "metadata": {},
   "source": [
    "## Duckietown Import"
   ]
  },
  {
   "cell_type": "code",
   "execution_count": null,
   "id": "6f03292a",
   "metadata": {},
   "outputs": [],
   "source": [
    "import os \n",
    "if not os.path.isdir('gym-duckietown') and not os.path.isdir('../gym-duckietown'):\n",
    "    branch = \"master\"\n",
    "    !git clone --branch {branch} https://github.com/duckietown/gym-duckietown.git\n",
    "    !pip3 install -e gym-duckietown"
   ]
  },
  {
   "cell_type": "code",
   "execution_count": null,
   "id": "954d1671",
   "metadata": {},
   "outputs": [],
   "source": [
    "if \"/gym-duckietown\" not in os.getcwd():\n",
    "    os.chdir('gym-duckietown')"
   ]
  },
  {
   "cell_type": "markdown",
   "id": "c72937e5",
   "metadata": {},
   "source": [
    "## Initialize environment"
   ]
  },
  {
   "cell_type": "code",
   "execution_count": null,
   "id": "02eb43e5",
   "metadata": {},
   "outputs": [],
   "source": [
    "import gym\n",
    "import numpy as np\n",
    "import torch as th\n",
    "import matplotlib.pyplot as plt\n",
    "import gym_duckietown\n",
    "from env import launch_env\n",
    "\n",
    "\n",
    "from stable_baselines3 import PPO\n",
    "from stable_baselines3.common.callbacks import CheckpointCallback"
   ]
  },
  {
   "cell_type": "code",
   "execution_count": null,
   "id": "c08085db",
   "metadata": {
    "scrolled": true
   },
   "outputs": [],
   "source": [
    "env = launch_env()"
   ]
  },
  {
   "cell_type": "code",
   "execution_count": null,
   "id": "dd167be2",
   "metadata": {},
   "outputs": [],
   "source": [
    "%load_ext tensorboard\n",
    "tb_log = \"..\\\\log\\\\\" #TODO"
   ]
  },
  {
   "cell_type": "code",
   "execution_count": null,
   "id": "5dd2d390",
   "metadata": {
    "scrolled": false
   },
   "outputs": [],
   "source": [
    "ppo_model = PPO(policy='MlpPolicy',\n",
    "                env=env,\n",
    "                learning_rate=5.e-5,\n",
    "                gamma=0.99,\n",
    "                tensorboard_log=tb_log,\n",
    "                verbose=1)"
   ]
  },
  {
   "cell_type": "markdown",
   "id": "b6cada27",
   "metadata": {},
   "source": [
    "## Learning"
   ]
  },
  {
   "cell_type": "code",
   "execution_count": null,
   "id": "43551af7",
   "metadata": {},
   "outputs": [],
   "source": [
    "checkpoint_callback = CheckpointCallback(\n",
    "  save_freq=1000,\n",
    "  save_path=\"..\\\\saves\\\\\", #TODO\n",
    "  name_prefix=\"ppo_model\",)"
   ]
  },
  {
   "cell_type": "code",
   "execution_count": null,
   "id": "013e901e",
   "metadata": {
    "scrolled": true
   },
   "outputs": [],
   "source": [
    "ppo_model.learn(total_timesteps=100000, callback=checkpoint_callback)"
   ]
  },
  {
   "cell_type": "markdown",
   "id": "09f6ce0b",
   "metadata": {},
   "source": [
    "## Model Loading"
   ]
  },
  {
   "cell_type": "code",
   "execution_count": null,
   "id": "e1543163",
   "metadata": {},
   "outputs": [],
   "source": [
    "env = launch_env(map=\"straight_road\")\n",
    "ppo_model = PPO.load(\"..\\\\saves\\\\ppo_model_80000_steps\")"
   ]
  },
  {
   "cell_type": "markdown",
   "id": "20e2b62a",
   "metadata": {},
   "source": [
    "## Model Logging"
   ]
  },
  {
   "cell_type": "code",
   "execution_count": null,
   "id": "bc57aa2c",
   "metadata": {},
   "outputs": [],
   "source": [
    "%tensorboard --logdir tb_log"
   ]
  },
  {
   "cell_type": "markdown",
   "id": "d2e34d48",
   "metadata": {},
   "source": [
    "## Model Testing"
   ]
  },
  {
   "cell_type": "code",
   "execution_count": null,
   "id": "501b6b17",
   "metadata": {},
   "outputs": [],
   "source": [
    "cutoff = 256\n",
    "with th.no_grad():\n",
    "    while True:\n",
    "        obs = env.reset()\n",
    "        env.render()\n",
    "        rewards = []\n",
    "        steps = 0\n",
    "        while True:\n",
    "            action, _states = ppo_model.predict(obs, deterministic=True)\n",
    "            obs, rew, done, misc = env.step(action)\n",
    "            rewards.append(rew)\n",
    "            env.render()\n",
    "            steps += 1\n",
    "            if done or steps >= cutoff:\n",
    "                break\n",
    "        print(\"mean episode reward:\", np.mean(rewards))"
   ]
  }
 ],
 "metadata": {
  "kernelspec": {
   "display_name": "Python 3 (ipykernel)",
   "language": "python",
   "name": "python3"
  },
  "language_info": {
   "codemirror_mode": {
    "name": "ipython",
    "version": 3
   },
   "file_extension": ".py",
   "mimetype": "text/x-python",
   "name": "python",
   "nbconvert_exporter": "python",
   "pygments_lexer": "ipython3",
   "version": "3.8.13"
  },
  "vscode": {
   "interpreter": {
    "hash": "08a26240bb99bf6b2d829f319099ca516958c43a63eb9bb458a964dd535085d4"
   }
  }
 },
 "nbformat": 4,
 "nbformat_minor": 5
}
